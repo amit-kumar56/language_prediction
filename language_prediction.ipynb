{
 "cells": [
  {
   "cell_type": "code",
   "execution_count": 80,
   "metadata": {},
   "outputs": [],
   "source": [
    "import pandas as pd\n",
    "from pandas.plotting import scatter_matrix\n",
    "from matplotlib import pyplot\n",
    "from sklearn.model_selection import train_test_split\n",
    "from sklearn.model_selection import KFold\n",
    "from sklearn.model_selection import cross_val_score\n",
    "from sklearn.metrics import classification_report\n",
    "from sklearn.metrics import confusion_matrix\n",
    "from sklearn.metrics import accuracy_score\n",
    "from sklearn.linear_model import LogisticRegression\n",
    "from sklearn.tree import DecisionTreeClassifier\n",
    "from sklearn.neighbors import KNeighborsClassifier\n",
    "from sklearn.discriminant_analysis import LinearDiscriminantAnalysis\n",
    "from sklearn.naive_bayes import GaussianNB\n",
    "from sklearn.svm import SVC\n",
    "from sklearn.neural_network import MLPClassifier\n",
    "import string\n",
    "import collections\n",
    "import pickle"
   ]
  },
  {
   "cell_type": "code",
   "execution_count": 87,
   "metadata": {},
   "outputs": [],
   "source": [
    "dtt=pd.read_csv('/home/heroo/Downloads/94159_218863_bundle_archive/dataset.csv',)"
   ]
  },
  {
   "cell_type": "code",
   "execution_count": 88,
   "metadata": {
    "collapsed": true
   },
   "outputs": [
    {
     "data": {
      "text/html": [
       "<div>\n",
       "<style scoped>\n",
       "    .dataframe tbody tr th:only-of-type {\n",
       "        vertical-align: middle;\n",
       "    }\n",
       "\n",
       "    .dataframe tbody tr th {\n",
       "        vertical-align: top;\n",
       "    }\n",
       "\n",
       "    .dataframe thead th {\n",
       "        text-align: right;\n",
       "    }\n",
       "</style>\n",
       "<table border=\"1\" class=\"dataframe\">\n",
       "  <thead>\n",
       "    <tr style=\"text-align: right;\">\n",
       "      <th></th>\n",
       "      <th>Text</th>\n",
       "      <th>language</th>\n",
       "    </tr>\n",
       "  </thead>\n",
       "  <tbody>\n",
       "    <tr>\n",
       "      <th>0</th>\n",
       "      <td>klement gottwaldi surnukeha palsameeriti ning ...</td>\n",
       "      <td>Estonian</td>\n",
       "    </tr>\n",
       "    <tr>\n",
       "      <th>1</th>\n",
       "      <td>sebes joseph pereira thomas  på eng the jesuit...</td>\n",
       "      <td>Swedish</td>\n",
       "    </tr>\n",
       "    <tr>\n",
       "      <th>2</th>\n",
       "      <td>ถนนเจริญกรุง อักษรโรมัน thanon charoen krung เ...</td>\n",
       "      <td>Thai</td>\n",
       "    </tr>\n",
       "    <tr>\n",
       "      <th>3</th>\n",
       "      <td>விசாகப்பட்டினம் தமிழ்ச்சங்கத்தை இந்துப் பத்திர...</td>\n",
       "      <td>Tamil</td>\n",
       "    </tr>\n",
       "    <tr>\n",
       "      <th>4</th>\n",
       "      <td>de spons behoort tot het geslacht haliclona en...</td>\n",
       "      <td>Dutch</td>\n",
       "    </tr>\n",
       "  </tbody>\n",
       "</table>\n",
       "</div>"
      ],
      "text/plain": [
       "                                                Text  language\n",
       "0  klement gottwaldi surnukeha palsameeriti ning ...  Estonian\n",
       "1  sebes joseph pereira thomas  på eng the jesuit...   Swedish\n",
       "2  ถนนเจริญกรุง อักษรโรมัน thanon charoen krung เ...      Thai\n",
       "3  விசாகப்பட்டினம் தமிழ்ச்சங்கத்தை இந்துப் பத்திர...     Tamil\n",
       "4  de spons behoort tot het geslacht haliclona en...     Dutch"
      ]
     },
     "execution_count": 88,
     "metadata": {},
     "output_type": "execute_result"
    }
   ],
   "source": [
    "dtt.head()"
   ]
  },
  {
   "cell_type": "code",
   "execution_count": 155,
   "metadata": {
    "collapsed": true
   },
   "outputs": [
    {
     "data": {
      "text/plain": [
       "['Romanian',\n",
       " 'Thai',\n",
       " 'Spanish',\n",
       " 'Turkish',\n",
       " 'Chinese',\n",
       " 'Latin',\n",
       " 'Tamil',\n",
       " 'Indonesian',\n",
       " 'Japanese',\n",
       " 'Arabic',\n",
       " 'French',\n",
       " 'Estonian',\n",
       " 'Persian',\n",
       " 'Russian',\n",
       " 'Pushto',\n",
       " 'Hindi',\n",
       " 'English',\n",
       " 'Swedish',\n",
       " 'Portugese',\n",
       " 'Urdu',\n",
       " 'Korean',\n",
       " 'Dutch']"
      ]
     },
     "execution_count": 155,
     "metadata": {},
     "output_type": "execute_result"
    }
   ],
   "source": [
    "lbl=list(set(dtt['language']))\n",
    "lbl"
   ]
  },
  {
   "cell_type": "code",
   "execution_count": 168,
   "metadata": {},
   "outputs": [],
   "source": [
    "lbl1={1.0:'Romanian',2.0:'thai',3.0:'Spanish',4.0:'Turkish',5.0:'Chinese',6.0:'Latin',7.0:'Indonesian',8.0:'Japanese',9.0:'Arabic',10.0:'French',11.0:'Estonian',12.0:'Persian',13.0:'Russian',14.0:'Pushto',15.0:'Hindi',16.0:'English',17.0:'Swedish',18.0:'Portugese',19.0:'Urdu',20.0:'Korean',21.0:'Dutch'}"
   ]
  },
  {
   "cell_type": "code",
   "execution_count": 166,
   "metadata": {},
   "outputs": [
    {
     "data": {
      "text/plain": [
       "array([14, 19, 16, 20,  1, 10, 18,  7,  8,  0,  5,  4, 11, 15, 13,  6,  3,\n",
       "       17, 12, 21,  9,  2])"
      ]
     },
     "execution_count": 166,
     "metadata": {},
     "output_type": "execute_result"
    }
   ],
   "source": [
    "from sklearn.preprocessing import LabelEncoder, OneHotEncoder\n",
    "labelencoder_X_1 = LabelEncoder()\n",
    "ylx = labelencoder_X_1.fit_transform(lbl)\n",
    "ylx"
   ]
  },
  {
   "cell_type": "code",
   "execution_count": 90,
   "metadata": {
    "collapsed": true
   },
   "outputs": [
    {
     "data": {
      "text/html": [
       "<div>\n",
       "<style scoped>\n",
       "    .dataframe tbody tr th:only-of-type {\n",
       "        vertical-align: middle;\n",
       "    }\n",
       "\n",
       "    .dataframe tbody tr th {\n",
       "        vertical-align: top;\n",
       "    }\n",
       "\n",
       "    .dataframe thead th {\n",
       "        text-align: right;\n",
       "    }\n",
       "</style>\n",
       "<table border=\"1\" class=\"dataframe\">\n",
       "  <thead>\n",
       "    <tr style=\"text-align: right;\">\n",
       "      <th></th>\n",
       "      <th>Text</th>\n",
       "      <th>language</th>\n",
       "    </tr>\n",
       "  </thead>\n",
       "  <tbody>\n",
       "    <tr>\n",
       "      <th>0</th>\n",
       "      <td>klement gottwaldi surnukeha palsameeriti ning ...</td>\n",
       "      <td>Estonian</td>\n",
       "    </tr>\n",
       "    <tr>\n",
       "      <th>1</th>\n",
       "      <td>sebes joseph pereira thomas  på eng the jesuit...</td>\n",
       "      <td>Swedish</td>\n",
       "    </tr>\n",
       "    <tr>\n",
       "      <th>2</th>\n",
       "      <td>ถนนเจริญกรุง อักษรโรมัน thanon charoen krung เ...</td>\n",
       "      <td>Thai</td>\n",
       "    </tr>\n",
       "    <tr>\n",
       "      <th>3</th>\n",
       "      <td>விசாகப்பட்டினம் தமிழ்ச்சங்கத்தை இந்துப் பத்திர...</td>\n",
       "      <td>Tamil</td>\n",
       "    </tr>\n",
       "    <tr>\n",
       "      <th>4</th>\n",
       "      <td>de spons behoort tot het geslacht haliclona en...</td>\n",
       "      <td>Dutch</td>\n",
       "    </tr>\n",
       "  </tbody>\n",
       "</table>\n",
       "</div>"
      ],
      "text/plain": [
       "                                                Text  language\n",
       "0  klement gottwaldi surnukeha palsameeriti ning ...  Estonian\n",
       "1  sebes joseph pereira thomas  på eng the jesuit...   Swedish\n",
       "2  ถนนเจริญกรุง อักษรโรมัน thanon charoen krung เ...      Thai\n",
       "3  விசாகப்பட்டினம் தமிழ்ச்சங்கத்தை இந்துப் பத்திர...     Tamil\n",
       "4  de spons behoort tot het geslacht haliclona en...     Dutch"
      ]
     },
     "execution_count": 90,
     "metadata": {},
     "output_type": "execute_result"
    }
   ],
   "source": [
    "dtt.head()"
   ]
  },
  {
   "cell_type": "code",
   "execution_count": null,
   "metadata": {},
   "outputs": [],
   "source": []
  },
  {
   "cell_type": "code",
   "execution_count": 169,
   "metadata": {},
   "outputs": [
    {
     "data": {
      "text/plain": [
       "'klement gottwaldi surnukeha palsameeriti ning paigutati mausoleumi surnukeha oli aga liiga hilja ja oskamatult palsameeritud ning hakkas ilmutama lagunemise tundemärke  aastal viidi ta surnukeha mausoleumist ära ja kremeeriti zlíni linn kandis aastatel – nime gottwaldov ukrainas harkivi oblastis kandis zmiivi linn aastatel – nime gotvald'"
      ]
     },
     "execution_count": 169,
     "metadata": {},
     "output_type": "execute_result"
    }
   ],
   "source": [
    "\n",
    "x=dtt.iloc[:,0].values\n",
    "\n",
    "y = dtt.iloc[:, 1].values\n",
    "x[0]"
   ]
  },
  {
   "cell_type": "code",
   "execution_count": 194,
   "metadata": {},
   "outputs": [
    {
     "data": {
      "text/plain": [
       "array(['Estonian', 'Swedish', 'Thai', ..., 'Spanish', 'Chinese',\n",
       "       'Romanian'], dtype=object)"
      ]
     },
     "execution_count": 194,
     "metadata": {},
     "output_type": "execute_result"
    }
   ],
   "source": [
    "from sklearn.preprocessing import LabelEncoder, OneHotEncoder\n",
    "labelencoder_X_1 = LabelEncoder()\n",
    "yl = labelencoder_X_1.fit_transform(y)\n",
    "xc=labelencoder_X_1 .inverse_transform(yl)\n",
    "xc"
   ]
  },
  {
   "cell_type": "code",
   "execution_count": 113,
   "metadata": {},
   "outputs": [],
   "source": [
    "X_train, X_test, y_train, y_test = train_test_split(x, \n",
    "                                                    yl,\n",
    "                                                    test_size = 0.3,\n",
    "                                                    random_state = 42)\n",
    "\n"
   ]
  },
  {
   "cell_type": "code",
   "execution_count": 161,
   "metadata": {},
   "outputs": [
    {
     "data": {
      "text/plain": [
       "array([ 4, 17, 19, 18,  2,  8, 20, 10, 21,  8,  7, 12,  5,  1,  9, 19,  4,\n",
       "       12, 12,  6, 18, 16])"
      ]
     },
     "execution_count": 161,
     "metadata": {},
     "output_type": "execute_result"
    }
   ],
   "source": [
    "yl[0:22]"
   ]
  },
  {
   "cell_type": "code",
   "execution_count": 170,
   "metadata": {},
   "outputs": [],
   "source": [
    "from sklearn.feature_extraction.text import TfidfVectorizer\n",
    "from sklearn.pipeline import Pipeline\n",
    "from sklearn.naive_bayes import MultinomialNB\n",
    "tfidf_vect = TfidfVectorizer(analyzer='char', ngram_range=(1,3))"
   ]
  },
  {
   "cell_type": "code",
   "execution_count": 167,
   "metadata": {},
   "outputs": [],
   "source": [
    "models=[]\n",
    "models.append(('LR', LogisticRegression(multi_class='auto', solver='liblinear')))\n",
    "models.append(('LDA',LinearDiscriminantAnalysis()))\n",
    "models.append(('KNN', KNeighborsClassifier()))\n",
    "models.append(('CART', DecisionTreeClassifier()))\n",
    "models.append(('NB', GaussianNB()))\n",
    "models.append(('SVM', SVC(gamma='scale')))\n",
    "models.append(('MLP', MLPClassifier(solver='lbfgs', alpha=1e-5, hidden_layer_sizes=(30,10), random_state=3)))\n"
   ]
  },
  {
   "cell_type": "code",
   "execution_count": 171,
   "metadata": {
    "collapsed": true
   },
   "outputs": [
    {
     "name": "stderr",
     "output_type": "stream",
     "text": [
      "/home/heroo/snap/jupyter/common/lib/python3.7/site-packages/sklearn/model_selection/_split.py:297: FutureWarning: Setting a random_state has no effect since shuffle is False. This will raise an error in 0.24. You should leave random_state to its default (None), or set shuffle=True.\n",
      "  FutureWarning\n"
     ]
    },
    {
     "name": "stdout",
     "output_type": "stream",
     "text": [
      "LR: 0.981429 (0.002979)\n"
     ]
    },
    {
     "name": "stderr",
     "output_type": "stream",
     "text": [
      "/home/heroo/snap/jupyter/common/lib/python3.7/site-packages/sklearn/model_selection/_split.py:297: FutureWarning: Setting a random_state has no effect since shuffle is False. This will raise an error in 0.24. You should leave random_state to its default (None), or set shuffle=True.\n",
      "  FutureWarning\n",
      "/home/heroo/snap/jupyter/common/lib/python3.7/site-packages/sklearn/model_selection/_validation.py:552: FitFailedWarning: Estimator fit failed. The score on this train-test partition for these parameters will be set to nan. Details: \n",
      "Traceback (most recent call last):\n",
      "  File \"/home/heroo/snap/jupyter/common/lib/python3.7/site-packages/sklearn/model_selection/_validation.py\", line 531, in _fit_and_score\n",
      "    estimator.fit(X_train, y_train, **fit_params)\n",
      "  File \"/home/heroo/snap/jupyter/common/lib/python3.7/site-packages/sklearn/discriminant_analysis.py\", line 425, in fit\n",
      "    dtype=[np.float64, np.float32])\n",
      "  File \"/home/heroo/snap/jupyter/common/lib/python3.7/site-packages/sklearn/base.py\", line 432, in _validate_data\n",
      "    X, y = check_X_y(X, y, **check_params)\n",
      "  File \"/home/heroo/snap/jupyter/common/lib/python3.7/site-packages/sklearn/utils/validation.py\", line 73, in inner_f\n",
      "    return f(**kwargs)\n",
      "  File \"/home/heroo/snap/jupyter/common/lib/python3.7/site-packages/sklearn/utils/validation.py\", line 803, in check_X_y\n",
      "    estimator=estimator)\n",
      "  File \"/home/heroo/snap/jupyter/common/lib/python3.7/site-packages/sklearn/utils/validation.py\", line 73, in inner_f\n",
      "    return f(**kwargs)\n",
      "  File \"/home/heroo/snap/jupyter/common/lib/python3.7/site-packages/sklearn/utils/validation.py\", line 579, in check_array\n",
      "    accept_large_sparse=accept_large_sparse)\n",
      "  File \"/home/heroo/snap/jupyter/common/lib/python3.7/site-packages/sklearn/utils/validation.py\", line 354, in _ensure_sparse_format\n",
      "    raise TypeError('A sparse matrix was passed, but dense '\n",
      "TypeError: A sparse matrix was passed, but dense data is required. Use X.toarray() to convert to a dense numpy array.\n",
      "\n",
      "  FitFailedWarning)\n",
      "/home/heroo/snap/jupyter/common/lib/python3.7/site-packages/sklearn/model_selection/_split.py:297: FutureWarning: Setting a random_state has no effect since shuffle is False. This will raise an error in 0.24. You should leave random_state to its default (None), or set shuffle=True.\n",
      "  FutureWarning\n"
     ]
    },
    {
     "name": "stdout",
     "output_type": "stream",
     "text": [
      "LDA: nan (nan)\n",
      "KNN: 0.978182 (0.003352)\n"
     ]
    },
    {
     "name": "stderr",
     "output_type": "stream",
     "text": [
      "/home/heroo/snap/jupyter/common/lib/python3.7/site-packages/sklearn/model_selection/_split.py:297: FutureWarning: Setting a random_state has no effect since shuffle is False. This will raise an error in 0.24. You should leave random_state to its default (None), or set shuffle=True.\n",
      "  FutureWarning\n"
     ]
    },
    {
     "name": "stdout",
     "output_type": "stream",
     "text": [
      "CART: 0.951818 (0.003218)\n"
     ]
    },
    {
     "name": "stderr",
     "output_type": "stream",
     "text": [
      "/home/heroo/snap/jupyter/common/lib/python3.7/site-packages/sklearn/model_selection/_split.py:297: FutureWarning: Setting a random_state has no effect since shuffle is False. This will raise an error in 0.24. You should leave random_state to its default (None), or set shuffle=True.\n",
      "  FutureWarning\n",
      "/home/heroo/snap/jupyter/common/lib/python3.7/site-packages/sklearn/model_selection/_validation.py:552: FitFailedWarning: Estimator fit failed. The score on this train-test partition for these parameters will be set to nan. Details: \n",
      "Traceback (most recent call last):\n",
      "  File \"/home/heroo/snap/jupyter/common/lib/python3.7/site-packages/sklearn/model_selection/_validation.py\", line 531, in _fit_and_score\n",
      "    estimator.fit(X_train, y_train, **fit_params)\n",
      "  File \"/home/heroo/snap/jupyter/common/lib/python3.7/site-packages/sklearn/naive_bayes.py\", line 210, in fit\n",
      "    X, y = self._validate_data(X, y)\n",
      "  File \"/home/heroo/snap/jupyter/common/lib/python3.7/site-packages/sklearn/base.py\", line 432, in _validate_data\n",
      "    X, y = check_X_y(X, y, **check_params)\n",
      "  File \"/home/heroo/snap/jupyter/common/lib/python3.7/site-packages/sklearn/utils/validation.py\", line 73, in inner_f\n",
      "    return f(**kwargs)\n",
      "  File \"/home/heroo/snap/jupyter/common/lib/python3.7/site-packages/sklearn/utils/validation.py\", line 803, in check_X_y\n",
      "    estimator=estimator)\n",
      "  File \"/home/heroo/snap/jupyter/common/lib/python3.7/site-packages/sklearn/utils/validation.py\", line 73, in inner_f\n",
      "    return f(**kwargs)\n",
      "  File \"/home/heroo/snap/jupyter/common/lib/python3.7/site-packages/sklearn/utils/validation.py\", line 579, in check_array\n",
      "    accept_large_sparse=accept_large_sparse)\n",
      "  File \"/home/heroo/snap/jupyter/common/lib/python3.7/site-packages/sklearn/utils/validation.py\", line 354, in _ensure_sparse_format\n",
      "    raise TypeError('A sparse matrix was passed, but dense '\n",
      "TypeError: A sparse matrix was passed, but dense data is required. Use X.toarray() to convert to a dense numpy array.\n",
      "\n",
      "  FitFailedWarning)\n",
      "/home/heroo/snap/jupyter/common/lib/python3.7/site-packages/sklearn/model_selection/_split.py:297: FutureWarning: Setting a random_state has no effect since shuffle is False. This will raise an error in 0.24. You should leave random_state to its default (None), or set shuffle=True.\n",
      "  FutureWarning\n"
     ]
    },
    {
     "name": "stdout",
     "output_type": "stream",
     "text": [
      "NB: nan (nan)\n",
      "SVM: 0.983961 (0.002662)\n"
     ]
    },
    {
     "name": "stderr",
     "output_type": "stream",
     "text": [
      "/home/heroo/snap/jupyter/common/lib/python3.7/site-packages/sklearn/model_selection/_split.py:297: FutureWarning: Setting a random_state has no effect since shuffle is False. This will raise an error in 0.24. You should leave random_state to its default (None), or set shuffle=True.\n",
      "  FutureWarning\n",
      "/home/heroo/snap/jupyter/common/lib/python3.7/site-packages/sklearn/model_selection/_validation.py:552: FitFailedWarning: Estimator fit failed. The score on this train-test partition for these parameters will be set to nan. Details: \n",
      "Traceback (most recent call last):\n",
      "  File \"/home/heroo/snap/jupyter/common/lib/python3.7/site-packages/sklearn/model_selection/_validation.py\", line 531, in _fit_and_score\n",
      "    estimator.fit(X_train, y_train, **fit_params)\n",
      "  File \"/home/heroo/snap/jupyter/common/lib/python3.7/site-packages/sklearn/neural_network/_multilayer_perceptron.py\", line 1028, in fit\n",
      "    hasattr(self, \"classes_\")))\n",
      "  File \"/home/heroo/snap/jupyter/common/lib/python3.7/site-packages/sklearn/neural_network/_multilayer_perceptron.py\", line 376, in _fit\n",
      "    intercept_grads, layer_units)\n",
      "  File \"/home/heroo/snap/jupyter/common/lib/python3.7/site-packages/sklearn/neural_network/_multilayer_perceptron.py\", line 470, in _fit_lbfgs\n",
      "    args=(X, y, activations, deltas, coef_grads, intercept_grads))\n",
      "  File \"/home/heroo/snap/jupyter/common/lib/python3.7/site-packages/scipy/optimize/_minimize.py\", line 610, in minimize\n",
      "    callback=callback, **options)\n",
      "  File \"/home/heroo/snap/jupyter/common/lib/python3.7/site-packages/scipy/optimize/lbfgsb.py\", line 322, in _minimize_lbfgsb\n",
      "    wa = zeros(2*m*n + 5*n + 11*m*m + 8*m, float64)\n",
      "MemoryError: Unable to allocate 2.92 GiB for an array with shape (391428730,) and data type float64\n",
      "\n",
      "  FitFailedWarning)\n",
      "/home/heroo/snap/jupyter/common/lib/python3.7/site-packages/sklearn/model_selection/_validation.py:552: FitFailedWarning: Estimator fit failed. The score on this train-test partition for these parameters will be set to nan. Details: \n",
      "Traceback (most recent call last):\n",
      "  File \"/home/heroo/snap/jupyter/common/lib/python3.7/site-packages/sklearn/model_selection/_validation.py\", line 531, in _fit_and_score\n",
      "    estimator.fit(X_train, y_train, **fit_params)\n",
      "  File \"/home/heroo/snap/jupyter/common/lib/python3.7/site-packages/sklearn/neural_network/_multilayer_perceptron.py\", line 1028, in fit\n",
      "    hasattr(self, \"classes_\")))\n",
      "  File \"/home/heroo/snap/jupyter/common/lib/python3.7/site-packages/sklearn/neural_network/_multilayer_perceptron.py\", line 376, in _fit\n",
      "    intercept_grads, layer_units)\n",
      "  File \"/home/heroo/snap/jupyter/common/lib/python3.7/site-packages/sklearn/neural_network/_multilayer_perceptron.py\", line 470, in _fit_lbfgs\n",
      "    args=(X, y, activations, deltas, coef_grads, intercept_grads))\n",
      "  File \"/home/heroo/snap/jupyter/common/lib/python3.7/site-packages/scipy/optimize/_minimize.py\", line 610, in minimize\n",
      "    callback=callback, **options)\n",
      "  File \"/home/heroo/snap/jupyter/common/lib/python3.7/site-packages/scipy/optimize/lbfgsb.py\", line 322, in _minimize_lbfgsb\n",
      "    wa = zeros(2*m*n + 5*n + 11*m*m + 8*m, float64)\n",
      "MemoryError: Unable to allocate 2.92 GiB for an array with shape (391428730,) and data type float64\n",
      "\n",
      "  FitFailedWarning)\n",
      "/home/heroo/snap/jupyter/common/lib/python3.7/site-packages/sklearn/model_selection/_validation.py:552: FitFailedWarning: Estimator fit failed. The score on this train-test partition for these parameters will be set to nan. Details: \n",
      "Traceback (most recent call last):\n",
      "  File \"/home/heroo/snap/jupyter/common/lib/python3.7/site-packages/sklearn/model_selection/_validation.py\", line 531, in _fit_and_score\n",
      "    estimator.fit(X_train, y_train, **fit_params)\n",
      "  File \"/home/heroo/snap/jupyter/common/lib/python3.7/site-packages/sklearn/neural_network/_multilayer_perceptron.py\", line 1028, in fit\n",
      "    hasattr(self, \"classes_\")))\n",
      "  File \"/home/heroo/snap/jupyter/common/lib/python3.7/site-packages/sklearn/neural_network/_multilayer_perceptron.py\", line 376, in _fit\n",
      "    intercept_grads, layer_units)\n",
      "  File \"/home/heroo/snap/jupyter/common/lib/python3.7/site-packages/sklearn/neural_network/_multilayer_perceptron.py\", line 470, in _fit_lbfgs\n",
      "    args=(X, y, activations, deltas, coef_grads, intercept_grads))\n",
      "  File \"/home/heroo/snap/jupyter/common/lib/python3.7/site-packages/scipy/optimize/_minimize.py\", line 610, in minimize\n",
      "    callback=callback, **options)\n",
      "  File \"/home/heroo/snap/jupyter/common/lib/python3.7/site-packages/scipy/optimize/lbfgsb.py\", line 322, in _minimize_lbfgsb\n",
      "    wa = zeros(2*m*n + 5*n + 11*m*m + 8*m, float64)\n",
      "MemoryError: Unable to allocate 2.92 GiB for an array with shape (391428730,) and data type float64\n",
      "\n",
      "  FitFailedWarning)\n",
      "/home/heroo/snap/jupyter/common/lib/python3.7/site-packages/sklearn/model_selection/_validation.py:552: FitFailedWarning: Estimator fit failed. The score on this train-test partition for these parameters will be set to nan. Details: \n",
      "Traceback (most recent call last):\n",
      "  File \"/home/heroo/snap/jupyter/common/lib/python3.7/site-packages/sklearn/model_selection/_validation.py\", line 531, in _fit_and_score\n",
      "    estimator.fit(X_train, y_train, **fit_params)\n",
      "  File \"/home/heroo/snap/jupyter/common/lib/python3.7/site-packages/sklearn/neural_network/_multilayer_perceptron.py\", line 1028, in fit\n",
      "    hasattr(self, \"classes_\")))\n",
      "  File \"/home/heroo/snap/jupyter/common/lib/python3.7/site-packages/sklearn/neural_network/_multilayer_perceptron.py\", line 376, in _fit\n",
      "    intercept_grads, layer_units)\n",
      "  File \"/home/heroo/snap/jupyter/common/lib/python3.7/site-packages/sklearn/neural_network/_multilayer_perceptron.py\", line 470, in _fit_lbfgs\n",
      "    args=(X, y, activations, deltas, coef_grads, intercept_grads))\n",
      "  File \"/home/heroo/snap/jupyter/common/lib/python3.7/site-packages/scipy/optimize/_minimize.py\", line 610, in minimize\n",
      "    callback=callback, **options)\n",
      "  File \"/home/heroo/snap/jupyter/common/lib/python3.7/site-packages/scipy/optimize/lbfgsb.py\", line 322, in _minimize_lbfgsb\n",
      "    wa = zeros(2*m*n + 5*n + 11*m*m + 8*m, float64)\n",
      "MemoryError: Unable to allocate 2.92 GiB for an array with shape (391428730,) and data type float64\n",
      "\n",
      "  FitFailedWarning)\n",
      "/home/heroo/snap/jupyter/common/lib/python3.7/site-packages/sklearn/model_selection/_validation.py:552: FitFailedWarning: Estimator fit failed. The score on this train-test partition for these parameters will be set to nan. Details: \n",
      "Traceback (most recent call last):\n",
      "  File \"/home/heroo/snap/jupyter/common/lib/python3.7/site-packages/sklearn/model_selection/_validation.py\", line 531, in _fit_and_score\n",
      "    estimator.fit(X_train, y_train, **fit_params)\n",
      "  File \"/home/heroo/snap/jupyter/common/lib/python3.7/site-packages/sklearn/neural_network/_multilayer_perceptron.py\", line 1028, in fit\n",
      "    hasattr(self, \"classes_\")))\n",
      "  File \"/home/heroo/snap/jupyter/common/lib/python3.7/site-packages/sklearn/neural_network/_multilayer_perceptron.py\", line 376, in _fit\n",
      "    intercept_grads, layer_units)\n",
      "  File \"/home/heroo/snap/jupyter/common/lib/python3.7/site-packages/sklearn/neural_network/_multilayer_perceptron.py\", line 470, in _fit_lbfgs\n",
      "    args=(X, y, activations, deltas, coef_grads, intercept_grads))\n",
      "  File \"/home/heroo/snap/jupyter/common/lib/python3.7/site-packages/scipy/optimize/_minimize.py\", line 610, in minimize\n",
      "    callback=callback, **options)\n",
      "  File \"/home/heroo/snap/jupyter/common/lib/python3.7/site-packages/scipy/optimize/lbfgsb.py\", line 322, in _minimize_lbfgsb\n",
      "    wa = zeros(2*m*n + 5*n + 11*m*m + 8*m, float64)\n",
      "MemoryError: Unable to allocate 2.92 GiB for an array with shape (391428730,) and data type float64\n",
      "\n",
      "  FitFailedWarning)\n",
      "/home/heroo/snap/jupyter/common/lib/python3.7/site-packages/sklearn/model_selection/_validation.py:552: FitFailedWarning: Estimator fit failed. The score on this train-test partition for these parameters will be set to nan. Details: \n",
      "Traceback (most recent call last):\n",
      "  File \"/home/heroo/snap/jupyter/common/lib/python3.7/site-packages/sklearn/model_selection/_validation.py\", line 531, in _fit_and_score\n",
      "    estimator.fit(X_train, y_train, **fit_params)\n",
      "  File \"/home/heroo/snap/jupyter/common/lib/python3.7/site-packages/sklearn/neural_network/_multilayer_perceptron.py\", line 1028, in fit\n",
      "    hasattr(self, \"classes_\")))\n",
      "  File \"/home/heroo/snap/jupyter/common/lib/python3.7/site-packages/sklearn/neural_network/_multilayer_perceptron.py\", line 376, in _fit\n",
      "    intercept_grads, layer_units)\n",
      "  File \"/home/heroo/snap/jupyter/common/lib/python3.7/site-packages/sklearn/neural_network/_multilayer_perceptron.py\", line 470, in _fit_lbfgs\n",
      "    args=(X, y, activations, deltas, coef_grads, intercept_grads))\n",
      "  File \"/home/heroo/snap/jupyter/common/lib/python3.7/site-packages/scipy/optimize/_minimize.py\", line 610, in minimize\n",
      "    callback=callback, **options)\n",
      "  File \"/home/heroo/snap/jupyter/common/lib/python3.7/site-packages/scipy/optimize/lbfgsb.py\", line 322, in _minimize_lbfgsb\n",
      "    wa = zeros(2*m*n + 5*n + 11*m*m + 8*m, float64)\n",
      "MemoryError: Unable to allocate 2.92 GiB for an array with shape (391428730,) and data type float64\n",
      "\n",
      "  FitFailedWarning)\n"
     ]
    },
    {
     "name": "stderr",
     "output_type": "stream",
     "text": [
      "/home/heroo/snap/jupyter/common/lib/python3.7/site-packages/sklearn/model_selection/_validation.py:552: FitFailedWarning: Estimator fit failed. The score on this train-test partition for these parameters will be set to nan. Details: \n",
      "Traceback (most recent call last):\n",
      "  File \"/home/heroo/snap/jupyter/common/lib/python3.7/site-packages/sklearn/model_selection/_validation.py\", line 531, in _fit_and_score\n",
      "    estimator.fit(X_train, y_train, **fit_params)\n",
      "  File \"/home/heroo/snap/jupyter/common/lib/python3.7/site-packages/sklearn/neural_network/_multilayer_perceptron.py\", line 1028, in fit\n",
      "    hasattr(self, \"classes_\")))\n",
      "  File \"/home/heroo/snap/jupyter/common/lib/python3.7/site-packages/sklearn/neural_network/_multilayer_perceptron.py\", line 376, in _fit\n",
      "    intercept_grads, layer_units)\n",
      "  File \"/home/heroo/snap/jupyter/common/lib/python3.7/site-packages/sklearn/neural_network/_multilayer_perceptron.py\", line 470, in _fit_lbfgs\n",
      "    args=(X, y, activations, deltas, coef_grads, intercept_grads))\n",
      "  File \"/home/heroo/snap/jupyter/common/lib/python3.7/site-packages/scipy/optimize/_minimize.py\", line 610, in minimize\n",
      "    callback=callback, **options)\n",
      "  File \"/home/heroo/snap/jupyter/common/lib/python3.7/site-packages/scipy/optimize/lbfgsb.py\", line 322, in _minimize_lbfgsb\n",
      "    wa = zeros(2*m*n + 5*n + 11*m*m + 8*m, float64)\n",
      "MemoryError: Unable to allocate 2.92 GiB for an array with shape (391428730,) and data type float64\n",
      "\n",
      "  FitFailedWarning)\n",
      "/home/heroo/snap/jupyter/common/lib/python3.7/site-packages/sklearn/model_selection/_validation.py:552: FitFailedWarning: Estimator fit failed. The score on this train-test partition for these parameters will be set to nan. Details: \n",
      "Traceback (most recent call last):\n",
      "  File \"/home/heroo/snap/jupyter/common/lib/python3.7/site-packages/sklearn/model_selection/_validation.py\", line 531, in _fit_and_score\n",
      "    estimator.fit(X_train, y_train, **fit_params)\n",
      "  File \"/home/heroo/snap/jupyter/common/lib/python3.7/site-packages/sklearn/neural_network/_multilayer_perceptron.py\", line 1028, in fit\n",
      "    hasattr(self, \"classes_\")))\n",
      "  File \"/home/heroo/snap/jupyter/common/lib/python3.7/site-packages/sklearn/neural_network/_multilayer_perceptron.py\", line 376, in _fit\n",
      "    intercept_grads, layer_units)\n",
      "  File \"/home/heroo/snap/jupyter/common/lib/python3.7/site-packages/sklearn/neural_network/_multilayer_perceptron.py\", line 470, in _fit_lbfgs\n",
      "    args=(X, y, activations, deltas, coef_grads, intercept_grads))\n",
      "  File \"/home/heroo/snap/jupyter/common/lib/python3.7/site-packages/scipy/optimize/_minimize.py\", line 610, in minimize\n",
      "    callback=callback, **options)\n",
      "  File \"/home/heroo/snap/jupyter/common/lib/python3.7/site-packages/scipy/optimize/lbfgsb.py\", line 322, in _minimize_lbfgsb\n",
      "    wa = zeros(2*m*n + 5*n + 11*m*m + 8*m, float64)\n",
      "MemoryError: Unable to allocate 2.92 GiB for an array with shape (391428730,) and data type float64\n",
      "\n",
      "  FitFailedWarning)\n",
      "/home/heroo/snap/jupyter/common/lib/python3.7/site-packages/sklearn/model_selection/_validation.py:552: FitFailedWarning: Estimator fit failed. The score on this train-test partition for these parameters will be set to nan. Details: \n",
      "Traceback (most recent call last):\n",
      "  File \"/home/heroo/snap/jupyter/common/lib/python3.7/site-packages/sklearn/model_selection/_validation.py\", line 531, in _fit_and_score\n",
      "    estimator.fit(X_train, y_train, **fit_params)\n",
      "  File \"/home/heroo/snap/jupyter/common/lib/python3.7/site-packages/sklearn/neural_network/_multilayer_perceptron.py\", line 1028, in fit\n",
      "    hasattr(self, \"classes_\")))\n",
      "  File \"/home/heroo/snap/jupyter/common/lib/python3.7/site-packages/sklearn/neural_network/_multilayer_perceptron.py\", line 376, in _fit\n",
      "    intercept_grads, layer_units)\n",
      "  File \"/home/heroo/snap/jupyter/common/lib/python3.7/site-packages/sklearn/neural_network/_multilayer_perceptron.py\", line 470, in _fit_lbfgs\n",
      "    args=(X, y, activations, deltas, coef_grads, intercept_grads))\n",
      "  File \"/home/heroo/snap/jupyter/common/lib/python3.7/site-packages/scipy/optimize/_minimize.py\", line 610, in minimize\n",
      "    callback=callback, **options)\n",
      "  File \"/home/heroo/snap/jupyter/common/lib/python3.7/site-packages/scipy/optimize/lbfgsb.py\", line 322, in _minimize_lbfgsb\n",
      "    wa = zeros(2*m*n + 5*n + 11*m*m + 8*m, float64)\n",
      "MemoryError: Unable to allocate 2.92 GiB for an array with shape (391428730,) and data type float64\n",
      "\n",
      "  FitFailedWarning)\n"
     ]
    },
    {
     "name": "stdout",
     "output_type": "stream",
     "text": [
      "MLP: nan (nan)\n"
     ]
    },
    {
     "name": "stderr",
     "output_type": "stream",
     "text": [
      "/home/heroo/snap/jupyter/common/lib/python3.7/site-packages/sklearn/model_selection/_validation.py:552: FitFailedWarning: Estimator fit failed. The score on this train-test partition for these parameters will be set to nan. Details: \n",
      "Traceback (most recent call last):\n",
      "  File \"/home/heroo/snap/jupyter/common/lib/python3.7/site-packages/sklearn/model_selection/_validation.py\", line 531, in _fit_and_score\n",
      "    estimator.fit(X_train, y_train, **fit_params)\n",
      "  File \"/home/heroo/snap/jupyter/common/lib/python3.7/site-packages/sklearn/neural_network/_multilayer_perceptron.py\", line 1028, in fit\n",
      "    hasattr(self, \"classes_\")))\n",
      "  File \"/home/heroo/snap/jupyter/common/lib/python3.7/site-packages/sklearn/neural_network/_multilayer_perceptron.py\", line 376, in _fit\n",
      "    intercept_grads, layer_units)\n",
      "  File \"/home/heroo/snap/jupyter/common/lib/python3.7/site-packages/sklearn/neural_network/_multilayer_perceptron.py\", line 470, in _fit_lbfgs\n",
      "    args=(X, y, activations, deltas, coef_grads, intercept_grads))\n",
      "  File \"/home/heroo/snap/jupyter/common/lib/python3.7/site-packages/scipy/optimize/_minimize.py\", line 610, in minimize\n",
      "    callback=callback, **options)\n",
      "  File \"/home/heroo/snap/jupyter/common/lib/python3.7/site-packages/scipy/optimize/lbfgsb.py\", line 322, in _minimize_lbfgsb\n",
      "    wa = zeros(2*m*n + 5*n + 11*m*m + 8*m, float64)\n",
      "MemoryError: Unable to allocate 2.92 GiB for an array with shape (391428730,) and data type float64\n",
      "\n",
      "  FitFailedWarning)\n"
     ]
    }
   ],
   "source": [
    "results = []\n",
    "names = []\n",
    "for name, model in models:\n",
    "    kfold = KFold(n_splits=10, random_state=seed) \n",
    "    \n",
    "    cv_results = cross_val_score(model,tfidf_vect.fit_transform(X_train), y_train, cv=kfold, scoring='accuracy')\n",
    "    results.append(cv_results)\n",
    "    names.append(name)\n",
    "    msg = \"%s: %f (%f)\" % (name, cv_results.mean(), cv_results.std())\n",
    "    print(msg)"
   ]
  },
  {
   "cell_type": "code",
   "execution_count": 198,
   "metadata": {},
   "outputs": [],
   "source": [
    "X_train, X_test, y_train, y_test = train_test_split(x, \n",
    "                                                    y,\n",
    "                                                    test_size = 0.3,\n",
    "                                                    random_state = 42)\n",
    "\n"
   ]
  },
  {
   "cell_type": "code",
   "execution_count": 199,
   "metadata": {},
   "outputs": [],
   "source": [
    "\n",
    "model = MultinomialNB()\n",
    "text_clf = Pipeline([('tfidf', tfidf_vect),\n",
    "                    ('clf', model),\n",
    "                    ])"
   ]
  },
  {
   "cell_type": "code",
   "execution_count": 200,
   "metadata": {},
   "outputs": [
    {
     "data": {
      "text/plain": [
       "Pipeline(steps=[('tfidf', TfidfVectorizer(analyzer='char', ngram_range=(1, 3))),\n",
       "                ('clf', MultinomialNB())])"
      ]
     },
     "execution_count": 200,
     "metadata": {},
     "output_type": "execute_result"
    }
   ],
   "source": [
    "text_clf.fit(X_train, y_train)"
   ]
  },
  {
   "cell_type": "code",
   "execution_count": 201,
   "metadata": {},
   "outputs": [],
   "source": [
    "predictions = text_clf.predict(X_test)"
   ]
  },
  {
   "cell_type": "code",
   "execution_count": null,
   "metadata": {},
   "outputs": [],
   "source": []
  },
  {
   "cell_type": "code",
   "execution_count": 202,
   "metadata": {},
   "outputs": [
    {
     "data": {
      "text/plain": [
       "0.9765151515151516"
      ]
     },
     "execution_count": 202,
     "metadata": {},
     "output_type": "execute_result"
    }
   ],
   "source": [
    "acc=accuracy_score(y_test, predictions)\n",
    "acc"
   ]
  },
  {
   "cell_type": "code",
   "execution_count": 203,
   "metadata": {},
   "outputs": [
    {
     "name": "stdout",
     "output_type": "stream",
     "text": [
      "Mean cross-validation accuracy: 0.9778636363636363\n"
     ]
    }
   ],
   "source": [
    "scores = cross_val_score(text_clf,x,yl, cv=5)\n",
    "print(\"Mean cross-validation accuracy: \" + str(scores.mean()))"
   ]
  },
  {
   "cell_type": "code",
   "execution_count": 204,
   "metadata": {},
   "outputs": [
    {
     "name": "stdout",
     "output_type": "stream",
     "text": [
      "              precision    recall  f1-score   support\n",
      "\n",
      "      Arabic       1.00      1.00      1.00       300\n",
      "     Chinese       0.99      0.98      0.99       291\n",
      "       Dutch       0.98      0.97      0.98       313\n",
      "     English       0.72      1.00      0.83       289\n",
      "    Estonian       1.00      0.95      0.97       308\n",
      "      French       0.96      0.99      0.97       287\n",
      "       Hindi       1.00      0.98      0.99       314\n",
      "  Indonesian       1.00      0.96      0.98       295\n",
      "    Japanese       1.00      0.99      0.99       302\n",
      "      Korean       1.00      0.99      0.99       296\n",
      "       Latin       0.99      0.89      0.94       312\n",
      "     Persian       0.99      1.00      0.99       299\n",
      "   Portugese       0.99      0.94      0.96       293\n",
      "      Pushto       1.00      0.96      0.98       303\n",
      "    Romanian       1.00      0.98      0.99       291\n",
      "     Russian       0.99      1.00      0.99       302\n",
      "     Spanish       0.98      0.99      0.98       287\n",
      "     Swedish       1.00      1.00      1.00       290\n",
      "       Tamil       1.00      0.99      0.99       301\n",
      "        Thai       1.00      0.98      0.99       305\n",
      "     Turkish       1.00      0.99      0.99       298\n",
      "        Urdu       1.00      0.98      0.99       324\n",
      "\n",
      "    accuracy                           0.98      6600\n",
      "   macro avg       0.98      0.98      0.98      6600\n",
      "weighted avg       0.98      0.98      0.98      6600\n",
      "\n"
     ]
    }
   ],
   "source": [
    "print(classification_report(y_test, predictions))"
   ]
  },
  {
   "cell_type": "code",
   "execution_count": 205,
   "metadata": {},
   "outputs": [
    {
     "data": {
      "text/plain": [
       "Text(0.5, 1.0, 'Language Identification Confusion Matrix')"
      ]
     },
     "execution_count": 205,
     "metadata": {},
     "output_type": "execute_result"
    },
    {
     "data": {
      "image/png": "[encoded data removed]",
      "text/plain": [
       "<Figure size 2304x2304 with 2 Axes>"
      ]
     },
     "metadata": {},
     "output_type": "display_data"
    }
   ],
   "source": [
    "from sklearn.metrics import accuracy_score, confusion_matrix, classification_report\n",
    "from sklearn.model_selection import cross_val_score\n",
    "import os\n",
    "import seaborn as sns; sns.set()\n",
    "import matplotlib.pyplot as plt\n",
    "plt.figure(figsize=(32, 32))\n",
    "cm = confusion_matrix(y_test, predictions)\n",
    "\n",
    "ax = sns.heatmap(cm, annot = True, fmt = \"d\")\n",
    "\n",
    "ax.set_xlabel('Predicted Language')\n",
    "ax.set_ylabel('Actual Language')\n",
    "ax.set_title('Language Identification Confusion Matrix')\n",
    "#ax.set_xticklabels(labels.values())\n",
    "#ax.set_yticklabels(labels.values())"
   ]
  },
  {
   "cell_type": "code",
   "execution_count": 211,
   "metadata": {
    "scrolled": true
   },
   "outputs": [
    {
     "data": {
      "text/plain": [
       "'\\n   true_values = np.array(y_test)\\n   \\n   for i, sentence in enumerate(X_test):\\n       prediction = float(predictions[i])\\n       true_value = float(true_values[i])\\n       print(\"Prediction: \" + str(lbl1[prediction]))\\n       print(\"Actual Language: \" + str(lbl1[true_value]))\\n       print(\"Input Sentence: \")\\n       print(sentence)\\n       print(\\'\\n\\')\\ntest_languages( X_validation,Y_validation,prediction)\\n'"
      ]
     },
     "execution_count": 211,
     "metadata": {},
     "output_type": "execute_result"
    }
   ],
   "source": [
    " '''\n",
    "    true_values = np.array(y_test)\n",
    "    \n",
    "    for i, sentence in enumerate(X_test):\n",
    "        prediction = float(predictions[i])\n",
    "        true_value = float(true_values[i])\n",
    "        print(\"Prediction: \" + str(lbl1[prediction]))\n",
    "        print(\"Actual Language: \" + str(lbl1[true_value]))\n",
    "        print(\"Input Sentence: \")\n",
    "        print(sentence)\n",
    "        print('\\n')\n",
    "test_languages( X_validation,Y_validation,prediction)\n",
    "'''"
   ]
  },
  {
   "cell_type": "code",
   "execution_count": 212,
   "metadata": {},
   "outputs": [
    {
     "name": "stderr",
     "output_type": "stream",
     "text": [
      "/home/heroo/snap/jupyter/common/lib/python3.7/site-packages/matplotlib/cbook/__init__.py:1239: RuntimeWarning: invalid value encountered in less_equal\n",
      "  wiskhi = x[x <= hival]\n",
      "/home/heroo/snap/jupyter/common/lib/python3.7/site-packages/matplotlib/cbook/__init__.py:1246: RuntimeWarning: invalid value encountered in greater_equal\n",
      "  wisklo = x[x >= loval]\n",
      "/home/heroo/snap/jupyter/common/lib/python3.7/site-packages/matplotlib/cbook/__init__.py:1254: RuntimeWarning: invalid value encountered in less\n",
      "  x[x < stats['whislo']],\n",
      "/home/heroo/snap/jupyter/common/lib/python3.7/site-packages/matplotlib/cbook/__init__.py:1255: RuntimeWarning: invalid value encountered in greater\n",
      "  x[x > stats['whishi']],\n"
     ]
    },
    {
     "data": {
      "image/png": "[encoded data removed]",
      "text/plain": [
       "<Figure size 432x288 with 1 Axes>"
      ]
     },
     "metadata": {},
     "output_type": "display_data"
    }
   ],
   "source": [
    "#algorithm comparison\n",
    "fig = pyplot.figure()\n",
    "fig.suptitle('Algorithm comparison')\n",
    "ax = fig.add_subplot(111)\n",
    "ax.boxplot(results)\n",
    "ax.set_xticklabels(names)\n",
    "pyplot.show()"
   ]
  },
  {
   "cell_type": "code",
   "execution_count": null,
   "metadata": {},
   "outputs": [],
   "source": []
  }
 ],
 "metadata": {
  "kernelspec": {
   "display_name": "Python 3",
   "language": "python",
   "name": "python3"
  }
 },
 "nbformat": 4,
 "nbformat_minor": 2
}
